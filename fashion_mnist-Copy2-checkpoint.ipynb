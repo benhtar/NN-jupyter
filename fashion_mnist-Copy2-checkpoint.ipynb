{
 "cells": [
  {
   "cell_type": "markdown",
   "metadata": {},
   "source": [
    "Simple CNN for image classification"
   ]
  },
  {
   "cell_type": "code",
   "execution_count": 1,
   "metadata": {},
   "outputs": [],
   "source": [
    "import matplotlib.pyplot as plt\n",
    "import tensorflow as tf\n",
    "import numpy as np\n",
    "import pandas as pd\n",
    "import sys\n",
    "from sklearn.preprocessing import StandardScaler\n",
    "\n",
    "#check tensorflow 2 is being used\n",
    "assert hasattr(tf, \"function\")"
   ]
  },
  {
   "cell_type": "code",
   "execution_count": 2,
   "metadata": {},
   "outputs": [
    {
     "data": {
      "text/plain": [
       "''"
      ]
     },
     "execution_count": 2,
     "metadata": {},
     "output_type": "execute_result"
    }
   ],
   "source": [
    "#from tensorflow.python.client import device_lib\n",
    "\n",
    "#print(device_lib.list_local_devices())\n",
    "tf.test.gpu_device_name()\n"
   ]
  },
  {
   "cell_type": "markdown",
   "metadata": {},
   "source": [
    "Load the dataset.\n",
    "We are using Fashion MNIST"
   ]
  },
  {
   "cell_type": "code",
   "execution_count": 3,
   "metadata": {},
   "outputs": [
    {
     "name": "stdout",
     "output_type": "stream",
     "text": [
      "2\n",
      "(10000, 28, 28) (10000,)\n",
      "73.00877385204082\n",
      "90.2745808471392\n",
      "------------------\n",
      "(10000, 784) (10000,)\n",
      "-1.0476880134421886e-18\n",
      "1.0000000000000007\n",
      "------------------\n",
      "(8000, 784) (8000,)\n",
      "(2000, 784) (2000,)\n"
     ]
    }
   ],
   "source": [
    "from sklearn.model_selection import train_test_split\n",
    "\n",
    "dataset = tf.keras.datasets.fashion_mnist\n",
    "(images, targets), (_,_) = dataset.load_data()\n",
    "\n",
    "images = images[:10000]\n",
    "targets = targets[:10000]\n",
    "copy = images\n",
    "\n",
    "print(targets[5])\n",
    "print(images.shape, targets.shape)\n",
    "print(images.mean())\n",
    "print(images.std())\n",
    "print(\"------------------\")\n",
    "#normalize the data\n",
    "images = images.reshape(-1, 784)\n",
    "images = images.astype(float)\n",
    "scaler = StandardScaler()\n",
    "images = scaler.fit_transform(images)\n",
    "\n",
    "print(images.shape, targets.shape)\n",
    "print(images.mean())\n",
    "print(images.std())\n",
    "\n",
    "images_train, images_test, targets_train, targets_test = train_test_split(\n",
    "    images, targets, test_size = 0.2, random_state=1)\n",
    "print(\"------------------\")\n",
    "print(images_train.shape, targets_train.shape)\n",
    "print(images_test.shape, targets_test.shape)"
   ]
  },
  {
   "cell_type": "markdown",
   "metadata": {},
   "source": [
    "Plot one of the data"
   ]
  },
  {
   "cell_type": "code",
   "execution_count": 4,
   "metadata": {},
   "outputs": [
    {
     "data": {
      "image/png": "[encoded data removed]",
      "text/plain": [
       "<Figure size 432x288 with 1 Axes>"
      ]
     },
     "metadata": {},
     "output_type": "display_data"
    }
   ],
   "source": [
    "#labels\n",
    "targets_names = [\"t-shirt\", \"trousers\", \"pullover\", \"dress\",\n",
    "    \"coat\", \"sandal\", \"shirt\", \"sneaker\", \"bag\", \"ankle-boot\"]\n",
    "#plot one of the images\n",
    "n = 5\n",
    "plt.imshow(copy[n], cmap=\"binary\")\n",
    "plt.title(targets_names[targets[n]])\n",
    "plt.show()"
   ]
  },
  {
   "cell_type": "markdown",
   "metadata": {},
   "source": [
    "Create model"
   ]
  },
  {
   "cell_type": "code",
   "execution_count": 7,
   "metadata": {},
   "outputs": [
    {
     "name": "stdout",
     "output_type": "stream",
     "text": [
      "[[0. 0. 1. 0. 0. 0. 0. 0. 0. 0.]] [9]\n"
     ]
    }
   ],
   "source": [
    "class ConvolutionModel(tf.keras.Model):\n",
    "    def _init_(self):\n",
    "        super(ConvModel, self)._init_()\n",
    "    #Convolution\n",
    "    self.conv1 = tf.keras.layers.Conv2D(32, 4, activation=\"relu\", name=\"conv1\")\n",
    "    self.conv2 = tf.keras.layers.Conv2D(64, 3, activation=\"relu\", name=\"conv2\")\n",
    "    self.conv3 = tf.keras.layers.Conv2D(128, 3, activation=\"relu\", name=\"conv3\")\n",
    "    #Flatten\n",
    "    self.flatten = tf.keras.layers.Flatten(name=\"flatten\")\n",
    "#check on first image\n",
    "output = model.predict(copy[0:1])\n",
    "print(output, targets[0:1])"
   ]
  },
  {
   "cell_type": "markdown",
   "metadata": {},
   "source": [
    "Model Summary"
   ]
  },
  {
   "cell_type": "code",
   "execution_count": 8,
   "metadata": {},
   "outputs": [
    {
     "name": "stdout",
     "output_type": "stream",
     "text": [
      "Model: \"sequential_2\"\n",
      "_________________________________________________________________\n",
      "Layer (type)                 Output Shape              Param #   \n",
      "=================================================================\n",
      "flatten_2 (Flatten)          (None, 784)               0         \n",
      "_________________________________________________________________\n",
      "dense_4 (Dense)              (None, 256)               200960    \n",
      "_________________________________________________________________\n",
      "dense_5 (Dense)              (None, 128)               32896     \n",
      "_________________________________________________________________\n",
      "dense_6 (Dense)              (None, 10)                1290      \n",
      "=================================================================\n",
      "Total params: 235,146\n",
      "Trainable params: 235,146\n",
      "Non-trainable params: 0\n",
      "_________________________________________________________________\n"
     ]
    }
   ],
   "source": [
    "model.summary()"
   ]
  },
  {
   "cell_type": "markdown",
   "metadata": {},
   "source": [
    "Compile and Train"
   ]
  },
  {
   "cell_type": "code",
   "execution_count": 9,
   "metadata": {},
   "outputs": [],
   "source": [
    "#using gpu\n",
    "#strategy = tf.distribute.MirroredStrategy(devices=[\"/gpu:0\"])\n",
    "#create the model\n",
    "#with strategy.scope():\n",
    "with tf.device(\"/device:CPU:0\"):\n",
    "    model = tf.keras.models.Sequential()\n",
    "    model.add(tf.keras.layers.Flatten(input_shape=[784]))\n",
    "\n",
    "#add layers\n",
    "    model.add(tf.keras.layers.Dense(256, activation=\"relu\"))\n",
    "    model.add(tf.keras.layers.Dense(128, activation=\"relu\"))\n",
    "    model.add(tf.keras.layers.Dense(10, activation=\"softmax\"))\n",
    "\n",
    "#compile the model\n",
    "    model.compile(loss=\"sparse_categorical_crossentropy\",\n",
    "              optimizer=\"sgd\",\n",
    "              metrics=[\"accuracy\"])"
   ]
  },
  {
   "cell_type": "code",
   "execution_count": 10,
   "metadata": {},
   "outputs": [
    {
     "name": "stdout",
     "output_type": "stream",
     "text": [
      "Epoch 1/20\n",
      "100/100 [==============================] - 1s 8ms/step - loss: 2.1821 - accuracy: 0.2330 - val_loss: 1.7385 - val_accuracy: 0.4194\n",
      "Epoch 2/20\n",
      "100/100 [==============================] - 0s 4ms/step - loss: 1.5034 - accuracy: 0.5355 - val_loss: 1.3499 - val_accuracy: 0.5906\n",
      "Epoch 3/20\n",
      "100/100 [==============================] - 0s 4ms/step - loss: 1.2181 - accuracy: 0.6352 - val_loss: 1.1539 - val_accuracy: 0.6425\n",
      "Epoch 4/20\n",
      "100/100 [==============================] - 0s 4ms/step - loss: 1.0614 - accuracy: 0.6809 - val_loss: 1.0350 - val_accuracy: 0.6737\n",
      "Epoch 5/20\n",
      "100/100 [==============================] - 0s 4ms/step - loss: 0.9614 - accuracy: 0.7039 - val_loss: 0.9546 - val_accuracy: 0.6944\n",
      "Epoch 6/20\n",
      "100/100 [==============================] - 0s 4ms/step - loss: 0.8916 - accuracy: 0.7205 - val_loss: 0.8965 - val_accuracy: 0.7031\n",
      "Epoch 7/20\n",
      "100/100 [==============================] - 0s 4ms/step - loss: 0.8398 - accuracy: 0.7325 - val_loss: 0.8523 - val_accuracy: 0.7188\n",
      "Epoch 8/20\n",
      "100/100 [==============================] - 0s 4ms/step - loss: 0.7995 - accuracy: 0.7419 - val_loss: 0.8173 - val_accuracy: 0.7256\n",
      "Epoch 9/20\n",
      "100/100 [==============================] - 0s 4ms/step - loss: 0.7670 - accuracy: 0.7497 - val_loss: 0.7887 - val_accuracy: 0.7356\n",
      "Epoch 10/20\n",
      "100/100 [==============================] - 0s 4ms/step - loss: 0.7399 - accuracy: 0.7566 - val_loss: 0.7644 - val_accuracy: 0.7394\n",
      "Epoch 11/20\n",
      "100/100 [==============================] - 0s 4ms/step - loss: 0.7168 - accuracy: 0.7619 - val_loss: 0.7437 - val_accuracy: 0.7462\n",
      "Epoch 12/20\n",
      "100/100 [==============================] - 0s 4ms/step - loss: 0.6967 - accuracy: 0.7652 - val_loss: 0.7254 - val_accuracy: 0.7481\n",
      "Epoch 13/20\n",
      "100/100 [==============================] - 0s 4ms/step - loss: 0.6789 - accuracy: 0.7703 - val_loss: 0.7091 - val_accuracy: 0.7550\n",
      "Epoch 14/20\n",
      "100/100 [==============================] - 0s 4ms/step - loss: 0.6629 - accuracy: 0.7739 - val_loss: 0.6944 - val_accuracy: 0.7556\n",
      "Epoch 15/20\n",
      "100/100 [==============================] - 0s 4ms/step - loss: 0.6485 - accuracy: 0.7788 - val_loss: 0.6811 - val_accuracy: 0.7619\n",
      "Epoch 16/20\n",
      "100/100 [==============================] - 0s 4ms/step - loss: 0.6353 - accuracy: 0.7831 - val_loss: 0.6690 - val_accuracy: 0.7644\n",
      "Epoch 17/20\n",
      "100/100 [==============================] - 0s 4ms/step - loss: 0.6231 - accuracy: 0.7866 - val_loss: 0.6577 - val_accuracy: 0.7656\n",
      "Epoch 18/20\n",
      "100/100 [==============================] - 0s 4ms/step - loss: 0.6118 - accuracy: 0.7886 - val_loss: 0.6472 - val_accuracy: 0.7669\n",
      "Epoch 19/20\n",
      "100/100 [==============================] - 0s 4ms/step - loss: 0.6012 - accuracy: 0.7919 - val_loss: 0.6375 - val_accuracy: 0.7694\n",
      "Epoch 20/20\n",
      "100/100 [==============================] - 0s 4ms/step - loss: 0.5914 - accuracy: 0.7944 - val_loss: 0.6283 - val_accuracy: 0.7719\n"
     ]
    }
   ],
   "source": [
    "#train\n",
    "train_dataset = tf.data.Dataset.from_tensor_slices((images_train, targets_train))\n",
    "train_dataset = train_dataset.shuffle(buffer_size=1024).batch(64)\n",
    "\n",
    "test_dataset = tf.data.Dataset.from_tensor_slices((images_test, targets_test))\n",
    "test_dataset = test_dataset.batch(64)\n",
    "\n",
    "images_train, images_val, targets_train, targets_val = train_test_split(\n",
    "    images_train, targets_train, test_size=0.2, random_state=1\n",
    ")\n",
    "val_dataset = tf.data.Dataset.from_tensor_slices((images_val, targets_val))\n",
    "val_dataset = val_dataset.batch(64)\n",
    "history = model.fit(train_dataset.take(100), epochs=20,\n",
    "                    validation_data=val_dataset)"
   ]
  },
  {
   "cell_type": "code",
   "execution_count": 11,
   "metadata": {},
   "outputs": [
    {
     "data": {
      "image/png": "[encoded data removed]",
      "text/plain": [
       "<Figure size 432x288 with 1 Axes>"
      ]
     },
     "metadata": {},
     "output_type": "display_data"
    },
    {
     "data": {
      "image/png": "[encoded data removed]",
      "text/plain": [
       "<Figure size 432x288 with 1 Axes>"
      ]
     },
     "metadata": {},
     "output_type": "display_data"
    }
   ],
   "source": [
    "#print(history.history)\n",
    "#plot results\n",
    "loss_plot = history.history[\"loss\"]\n",
    "loss_val_plot = history.history[\"val_loss\"]\n",
    "acc_plot = history.history[\"accuracy\"]\n",
    "acc_val_plot = history.history[\"val_accuracy\"]\n",
    "\n",
    "plt.plot(loss_plot, label=\"train\")\n",
    "plt.plot(loss_val_plot, label=\"val\")\n",
    "plt.legend(loc=\"lower left\")\n",
    "plt.title(\"loss\")\n",
    "plt.show()\n",
    "\n",
    "plt.plot(acc_plot, label=\"train\")\n",
    "plt.plot(acc_val_plot, label=\"val\")\n",
    "plt.legend(loc=\"upper left\")\n",
    "plt.title(\"accuracy\")\n",
    "plt.show()"
   ]
  },
  {
   "cell_type": "code",
   "execution_count": 13,
   "metadata": {},
   "outputs": [
    {
     "name": "stdout",
     "output_type": "stream",
     "text": [
      "2000/2000 [==============================] - 0s 37us/sample - loss: 0.6441 - accuracy: 0.7845\n"
     ]
    },
    {
     "data": {
      "text/plain": [
       "[0.6441489048004151, 0.7845]"
      ]
     },
     "execution_count": 13,
     "metadata": {},
     "output_type": "execute_result"
    }
   ],
   "source": [
    "model.evaluate(images_test, targets_test)"
   ]
  },
  {
   "cell_type": "code",
   "execution_count": null,
   "metadata": {},
   "outputs": [],
   "source": []
  }
 ],
 "metadata": {
  "kernelspec": {
   "display_name": "Python 3",
   "language": "python",
   "name": "python3"
  },
  "language_info": {
   "codemirror_mode": {
    "name": "ipython",
    "version": 3
   },
   "file_extension": ".py",
   "mimetype": "text/x-python",
   "name": "python",
   "nbconvert_exporter": "python",
   "pygments_lexer": "ipython3",
   "version": "3.6.8"
  }
 },
 "nbformat": 4,
 "nbformat_minor": 1
}
