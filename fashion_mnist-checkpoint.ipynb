{
 "cells": [
  {
   "cell_type": "markdown",
   "metadata": {},
   "source": [
    "Simple CNN for image classification"
   ]
  },
  {
   "cell_type": "code",
   "execution_count": 20,
   "metadata": {},
   "outputs": [],
   "source": [
    "import matplotlib.pyplot as plt\n",
    "import tensorflow as tf\n",
    "import numpy as np\n",
    "import pandas as pd\n",
    "import sys\n",
    "from sklearn.preprocessing import StandardScaler\n",
    "\n",
    "#check tensorflow 2 is being used\n",
    "assert hasattr(tf, \"function\")"
   ]
  },
  {
   "cell_type": "markdown",
   "metadata": {},
   "source": [
    "Load the dataset.\n",
    "We are using Fashion MNIST"
   ]
  },
  {
   "cell_type": "code",
   "execution_count": 36,
   "metadata": {},
   "outputs": [
    {
     "name": "stdout",
     "output_type": "stream",
     "text": [
      "2\n",
      "(10000, 28, 28) (10000,)\n",
      "73.00877385204082\n",
      "90.2745808471392\n",
      "------------------\n",
      "(10000, 784) (10000,)\n",
      "-1.0476880134421886e-18\n",
      "1.0000000000000007\n",
      "------------------\n",
      "(8000, 784) (8000,)\n",
      "(2000, 784) (2000,)\n"
     ]
    }
   ],
   "source": [
    "from sklearn.model_selection import train_test_split\n",
    "\n",
    "dataset = tf.keras.datasets.fashion_mnist\n",
    "(images, targets), (_,_) = dataset.load_data()\n",
    "\n",
    "images = images[:10000]\n",
    "targets = targets[:10000]\n",
    "\n",
    "print(targets[5])\n",
    "print(images.shape, targets.shape)\n",
    "print(images.mean())\n",
    "print(images.std())\n",
    "print(\"------------------\")\n",
    "#normalize the data\n",
    "images = images.reshape(-1, 784)\n",
    "images = images.astype(float)\n",
    "scaler = StandardScaler()\n",
    "images = scaler.fit_transform(images)\n",
    "\n",
    "print(images.shape, targets.shape)\n",
    "print(images.mean())\n",
    "print(images.std())\n",
    "\n",
    "images_train, images_test, targets_train, targets_test = train_test_split(\n",
    "    images, targets, test_size = 0.2, random_state=1)\n",
    "print(\"------------------\")\n",
    "print(images_train.shape, targets_train.shape)\n",
    "print(images_test.shape, targets_test.shape)"
   ]
  },
  {
   "cell_type": "markdown",
   "metadata": {},
   "source": [
    "Plot one of the data"
   ]
  },
  {
   "cell_type": "code",
   "execution_count": 2,
   "metadata": {},
   "outputs": [],
   "source": [
    "#labels\n",
    "#targets_names = [\"t-shirt\", \"trousers\", \"pullover\", \"dress\",\n",
    "#    \"coat\", \"sandal\", \"shirt\", \"sneaker\", \"bag\", \"ankle-boot\"]\n",
    "#plot one of the images\n",
    "#n = 5\n",
    "#plt.imshow(images[n], cmap=\"binary\")\n",
    "#plt.title(targets_names[targets[n]])\n",
    "#plt.show()"
   ]
  },
  {
   "cell_type": "markdown",
   "metadata": {},
   "source": [
    "Create model"
   ]
  },
  {
   "cell_type": "code",
   "execution_count": 48,
   "metadata": {},
   "outputs": [
    {
     "name": "stdout",
     "output_type": "stream",
     "text": [
      "[[0.33201241 0.09538718 0.03782488 0.06021227 0.35155708 0.06265873\n",
      "  0.02650887 0.02220865 0.00436834 0.00726154]] [9]\n"
     ]
    }
   ],
   "source": [
    "#create the model\n",
    "model = tf.keras.models.Sequential()\n",
    "#model.add(tf.keras.layers.Flatten(input_shape=[28, 28]))\n",
    "\n",
    "#add layers\n",
    "model.add(tf.keras.layers.Dense(256, activation=\"relu\"))\n",
    "model.add(tf.keras.layers.Dense(128, activation=\"relu\"))\n",
    "model.add(tf.keras.layers.Dense(10, activation=\"softmax\"))\n",
    "\n",
    "#check on first image\n",
    "output = model.predict(images[0:1])\n",
    "print(output, targets[0:1])"
   ]
  },
  {
   "cell_type": "markdown",
   "metadata": {},
   "source": [
    "Model Summary"
   ]
  },
  {
   "cell_type": "code",
   "execution_count": 49,
   "metadata": {},
   "outputs": [
    {
     "name": "stdout",
     "output_type": "stream",
     "text": [
      "Model: \"sequential_3\"\n",
      "_________________________________________________________________\n",
      "Layer (type)                 Output Shape              Param #   \n",
      "=================================================================\n",
      "dense_9 (Dense)              multiple                  200960    \n",
      "_________________________________________________________________\n",
      "dense_10 (Dense)             multiple                  32896     \n",
      "_________________________________________________________________\n",
      "dense_11 (Dense)             multiple                  1290      \n",
      "=================================================================\n",
      "Total params: 235,146\n",
      "Trainable params: 235,146\n",
      "Non-trainable params: 0\n",
      "_________________________________________________________________\n"
     ]
    }
   ],
   "source": [
    "model.summary()"
   ]
  },
  {
   "cell_type": "markdown",
   "metadata": {},
   "source": [
    "Compile and Train"
   ]
  },
  {
   "cell_type": "code",
   "execution_count": 50,
   "metadata": {},
   "outputs": [],
   "source": [
    "#compile the model\n",
    "model.compile(loss=\"sparse_categorical_crossentropy\",\n",
    "              optimizer=\"sgd\",\n",
    "              metrics=[\"accuracy\"])"
   ]
  },
  {
   "cell_type": "code",
   "execution_count": 51,
   "metadata": {},
   "outputs": [
    {
     "name": "stdout",
     "output_type": "stream",
     "text": [
      "Train on 6400 samples, validate on 1600 samples\n",
      "Epoch 1/30\n",
      "6400/6400 [==============================] - 1s 107us/sample - loss: 2.0238 - accuracy: 0.3414 - val_loss: 1.5185 - val_accuracy: 0.5319\n",
      "Epoch 2/30\n",
      "6400/6400 [==============================] - 0s 75us/sample - loss: 1.2826 - accuracy: 0.6195 - val_loss: 1.1185 - val_accuracy: 0.6575\n",
      "Epoch 3/30\n",
      "6400/6400 [==============================] - 0s 72us/sample - loss: 1.0125 - accuracy: 0.6905 - val_loss: 0.9496 - val_accuracy: 0.6919\n",
      "Epoch 4/30\n",
      "6400/6400 [==============================] - 0s 70us/sample - loss: 0.8793 - accuracy: 0.7202 - val_loss: 0.8540 - val_accuracy: 0.7194\n",
      "Epoch 5/30\n",
      "6400/6400 [==============================] - 0s 72us/sample - loss: 0.7978 - accuracy: 0.7392 - val_loss: 0.7931 - val_accuracy: 0.7387\n",
      "Epoch 6/30\n",
      "6400/6400 [==============================] - 0s 76us/sample - loss: 0.7409 - accuracy: 0.7578 - val_loss: 0.7490 - val_accuracy: 0.7506\n",
      "Epoch 7/30\n",
      "6400/6400 [==============================] - 0s 70us/sample - loss: 0.6985 - accuracy: 0.7667 - val_loss: 0.7150 - val_accuracy: 0.7613\n",
      "Epoch 8/30\n",
      "6400/6400 [==============================] - 0s 71us/sample - loss: 0.6650 - accuracy: 0.7770 - val_loss: 0.6890 - val_accuracy: 0.7663\n",
      "Epoch 9/30\n",
      "6400/6400 [==============================] - 0s 76us/sample - loss: 0.6370 - accuracy: 0.7856 - val_loss: 0.6676 - val_accuracy: 0.7731\n",
      "Epoch 10/30\n",
      "6400/6400 [==============================] - 0s 68us/sample - loss: 0.6132 - accuracy: 0.7928 - val_loss: 0.6473 - val_accuracy: 0.7781\n",
      "Epoch 11/30\n",
      "6400/6400 [==============================] - 0s 70us/sample - loss: 0.5930 - accuracy: 0.7977 - val_loss: 0.6308 - val_accuracy: 0.7856\n",
      "Epoch 12/30\n",
      "6400/6400 [==============================] - 0s 70us/sample - loss: 0.5746 - accuracy: 0.8028 - val_loss: 0.6192 - val_accuracy: 0.7900\n",
      "Epoch 13/30\n",
      "6400/6400 [==============================] - 0s 71us/sample - loss: 0.5585 - accuracy: 0.8066 - val_loss: 0.6051 - val_accuracy: 0.7950\n",
      "Epoch 14/30\n",
      "6400/6400 [==============================] - 0s 68us/sample - loss: 0.5437 - accuracy: 0.8122 - val_loss: 0.5930 - val_accuracy: 0.7950\n",
      "Epoch 15/30\n",
      "6400/6400 [==============================] - 0s 75us/sample - loss: 0.5305 - accuracy: 0.8177 - val_loss: 0.5832 - val_accuracy: 0.7994\n",
      "Epoch 16/30\n",
      "6400/6400 [==============================] - 0s 74us/sample - loss: 0.5180 - accuracy: 0.8217 - val_loss: 0.5734 - val_accuracy: 0.7956\n",
      "Epoch 17/30\n",
      "6400/6400 [==============================] - 0s 68us/sample - loss: 0.5069 - accuracy: 0.8258 - val_loss: 0.5664 - val_accuracy: 0.7969\n",
      "Epoch 18/30\n",
      "6400/6400 [==============================] - 0s 75us/sample - loss: 0.4962 - accuracy: 0.8292 - val_loss: 0.5593 - val_accuracy: 0.8025\n",
      "Epoch 19/30\n",
      "6400/6400 [==============================] - 0s 68us/sample - loss: 0.4866 - accuracy: 0.8333 - val_loss: 0.5510 - val_accuracy: 0.8037\n",
      "Epoch 20/30\n",
      "6400/6400 [==============================] - 0s 71us/sample - loss: 0.4777 - accuracy: 0.8353 - val_loss: 0.5455 - val_accuracy: 0.8069\n",
      "Epoch 21/30\n",
      "6400/6400 [==============================] - 0s 67us/sample - loss: 0.4692 - accuracy: 0.8391 - val_loss: 0.5388 - val_accuracy: 0.8069\n",
      "Epoch 22/30\n",
      "6400/6400 [==============================] - 0s 69us/sample - loss: 0.4614 - accuracy: 0.8398 - val_loss: 0.5334 - val_accuracy: 0.8094\n",
      "Epoch 23/30\n",
      "6400/6400 [==============================] - 0s 72us/sample - loss: 0.4537 - accuracy: 0.8416 - val_loss: 0.5316 - val_accuracy: 0.8119\n",
      "Epoch 24/30\n",
      "6400/6400 [==============================] - 0s 64us/sample - loss: 0.4468 - accuracy: 0.8448 - val_loss: 0.5266 - val_accuracy: 0.8106\n",
      "Epoch 25/30\n",
      "6400/6400 [==============================] - 0s 71us/sample - loss: 0.4403 - accuracy: 0.8455 - val_loss: 0.5218 - val_accuracy: 0.8156\n",
      "Epoch 26/30\n",
      "6400/6400 [==============================] - 0s 77us/sample - loss: 0.4339 - accuracy: 0.8475 - val_loss: 0.5181 - val_accuracy: 0.8181\n",
      "Epoch 27/30\n",
      "6400/6400 [==============================] - 0s 67us/sample - loss: 0.4278 - accuracy: 0.8503 - val_loss: 0.5128 - val_accuracy: 0.8150\n",
      "Epoch 28/30\n",
      "6400/6400 [==============================] - 0s 76us/sample - loss: 0.4221 - accuracy: 0.8541 - val_loss: 0.5103 - val_accuracy: 0.8175\n",
      "Epoch 29/30\n",
      "6400/6400 [==============================] - 0s 64us/sample - loss: 0.4168 - accuracy: 0.8541 - val_loss: 0.5073 - val_accuracy: 0.8188\n",
      "Epoch 30/30\n",
      "6400/6400 [==============================] - 0s 67us/sample - loss: 0.4118 - accuracy: 0.8564 - val_loss: 0.5047 - val_accuracy: 0.8188\n"
     ]
    }
   ],
   "source": [
    "#train\n",
    "history = model.fit(images_train, targets_train, epochs=30,\n",
    "                    validation_split=0.2)"
   ]
  },
  {
   "cell_type": "code",
   "execution_count": 52,
   "metadata": {},
   "outputs": [
    {
     "data": {
      "image/png": "[encoded data removed]",
      "text/plain": [
       "<Figure size 432x288 with 1 Axes>"
      ]
     },
     "metadata": {},
     "output_type": "display_data"
    },
    {
     "data": {
      "image/png": "[encoded data removed]",
      "text/plain": [
       "<Figure size 432x288 with 1 Axes>"
      ]
     },
     "metadata": {},
     "output_type": "display_data"
    }
   ],
   "source": [
    "#print(history.history)\n",
    "#plot results\n",
    "loss_plot = history.history[\"loss\"]\n",
    "loss_val_plot = history.history[\"val_loss\"]\n",
    "acc_plot = history.history[\"accuracy\"]\n",
    "acc_val_plot = history.history[\"val_accuracy\"]\n",
    "\n",
    "plt.plot(loss_plot, label=\"train\")\n",
    "plt.plot(loss_val_plot, label=\"val\")\n",
    "plt.legend(loc=\"lower left\")\n",
    "plt.title(\"loss\")\n",
    "plt.show()\n",
    "\n",
    "plt.plot(acc_plot, label=\"train\")\n",
    "plt.plot(acc_val_plot, label=\"val\")\n",
    "plt.legend(loc=\"upper left\")\n",
    "plt.title(\"accuracy\")\n",
    "plt.show()"
   ]
  },
  {
   "cell_type": "code",
   "execution_count": 53,
   "metadata": {},
   "outputs": [
    {
     "name": "stdout",
     "output_type": "stream",
     "text": [
      "2000/2000 [==============================] - 0s 36us/sample - loss: 0.5020 - accuracy: 0.8265\n"
     ]
    },
    {
     "data": {
      "text/plain": [
       "[0.5019522020816803, 0.8265]"
      ]
     },
     "execution_count": 53,
     "metadata": {},
     "output_type": "execute_result"
    }
   ],
   "source": [
    "model.evaluate(images_test, targets_test)"
   ]
  },
  {
   "cell_type": "code",
   "execution_count": null,
   "metadata": {},
   "outputs": [],
   "source": []
  }
 ],
 "metadata": {
  "kernelspec": {
   "display_name": "Python 3",
   "language": "python",
   "name": "python3"
  },
  "language_info": {
   "codemirror_mode": {
    "name": "ipython",
    "version": 3
   },
   "file_extension": ".py",
   "mimetype": "text/x-python",
   "name": "python",
   "nbconvert_exporter": "python",
   "pygments_lexer": "ipython3",
   "version": "3.6.8"
  }
 },
 "nbformat": 4,
 "nbformat_minor": 1
}
